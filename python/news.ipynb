{
 "cells": [
  {
   "cell_type": "code",
   "execution_count": 2,
   "metadata": {},
   "outputs": [],
   "source": [
    "import requests\n",
    "import re\n",
    "from bs4 import BeautifulSoup\n",
    "import time"
   ]
  },
  {
   "cell_type": "code",
   "execution_count": 10,
   "metadata": {},
   "outputs": [],
   "source": [
    "dic=set()\n",
    "end=time.clock()+24*3600\n",
    "while time.clock()<end:\n",
    "    try:\n",
    "        h=requests.get('https://news.yahoo.com/politics/')\n",
    "        soup = BeautifulSoup(h.content, 'html.parser')\n",
    "        soup.find_all(text='\"type\": \"article\"') \n",
    "        for a in soup.find_all('a', href=True):\n",
    "            if re.search('democr',a['href'])!= None or re.search('republ',a['href'])!= None:\n",
    "                if a['href']not in dic:\n",
    "                    dic.add(a['href'])\n",
    "                    f = open('log.txt', 'a')\n",
    "                    f.write('https://news.yahoo.com/politics'+a['href']+'\\n')\n",
    "                    f.close()\n",
    "\n",
    "    except:\n",
    "        pass\n",
    "    time.sleep(600) "
   ]
  }
 ],
 "metadata": {
  "kernelspec": {
   "display_name": "Python 3",
   "language": "python",
   "name": "python3"
  },
  "language_info": {
   "codemirror_mode": {
    "name": "ipython",
    "version": 3
   },
   "file_extension": ".py",
   "mimetype": "text/x-python",
   "name": "python",
   "nbconvert_exporter": "python",
   "pygments_lexer": "ipython3",
   "version": "3.6.2"
  }
 },
 "nbformat": 4,
 "nbformat_minor": 2
}
