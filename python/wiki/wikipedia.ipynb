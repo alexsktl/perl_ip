{
 "cells": [
  {
   "cell_type": "code",
   "execution_count": 4,
   "metadata": {},
   "outputs": [
    {
     "name": "stdout",
     "output_type": "stream",
     "text": [
      "['https://en.wikipedia.org/wiki/Order_of_the_Republic_(Moldova)', 'https://en.wikipedia.org/wiki/Moldova', 'https://en.wikipedia.org/wiki/De_facto', 'https://en.wikipedia.org/wiki/Law']\n",
      "['https://en.wikipedia.org/wiki/Law', 'https://en.wikipedia.org/wiki/President_of_Germany', 'https://en.wikipedia.org/wiki/Klaus_Iohannis', 'https://en.wikipedia.org/wiki/Order_of_the_Republic_(Moldova)']\n"
     ]
    }
   ],
   "source": [
    "import json\n",
    "import time\n",
    "import requests\n",
    "import argparse\n",
    "from bs4 import BeautifulSoup\n",
    "from collections import deque\n",
    "\n",
    "def find_shortest_path(start, end):\n",
    "    path = {}\n",
    "    path[start] = [start]\n",
    "    Q = deque([start])\n",
    "\n",
    "    while len(Q) != 0:\n",
    "        page = Q.popleft()\n",
    "        links = get_links(page)\n",
    "\n",
    "        for link in links:\n",
    "\n",
    "            if link == end:\n",
    "                return path[page] + [link]\n",
    "\n",
    "            if (link not in path) and (link != page):\n",
    "                path[link] = path[page] + [link]\n",
    "                Q.append(link)\n",
    "\n",
    "    return None\n",
    "    \n",
    "def get_links(page):\n",
    "    r = requests.get(page)\n",
    "    soup = BeautifulSoup(r.content, 'html.parser')\n",
    "    base_url = page[:page.find('/wiki/')]\n",
    "    links = list({base_url + a['href'] for a in soup.select('p a[href]') if a['href'].startswith('/wiki/')})\n",
    "    return links \n",
    "k='https://en.wikipedia.org/wiki/'\n",
    "s='Order_of_the_Republic_(Moldova)'\n",
    "e='Law'\n",
    "print(find_shortest_path(k+s,k+e))    \n",
    "print(find_shortest_path(k+e,k+s))"
   ]
  }
 ],
 "metadata": {
  "kernelspec": {
   "display_name": "Python 3",
   "language": "python",
   "name": "python3"
  },
  "language_info": {
   "codemirror_mode": {
    "name": "ipython",
    "version": 3
   },
   "file_extension": ".py",
   "mimetype": "text/x-python",
   "name": "python",
   "nbconvert_exporter": "python",
   "pygments_lexer": "ipython3",
   "version": "3.6.2"
  }
 },
 "nbformat": 4,
 "nbformat_minor": 2
}
